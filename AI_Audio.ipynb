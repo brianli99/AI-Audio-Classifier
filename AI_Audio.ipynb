{
 "cells": [
  {
   "cell_type": "code",
   "execution_count": 2,
   "metadata": {},
   "outputs": [],
   "source": [
    "import pytube\n",
    "import pandas as pd\n",
    "import os\n",
    "from pytube import YouTube \n",
    "from pytube.exceptions import VideoUnavailable\n",
    "import ssl\n",
    "import urllib.request"
   ]
  },
  {
   "cell_type": "code",
   "execution_count": 28,
   "metadata": {},
   "outputs": [
    {
     "name": "stdout",
     "output_type": "stream",
     "text": [
      "Audio downloaded successfully!\n",
      "Audio downloaded successfully!\n",
      "Audio downloaded successfully!\n",
      "Audio downloaded successfully!\n",
      "Audio downloaded successfully!\n",
      "Audio downloaded successfully!\n",
      "Audio downloaded successfully!\n",
      "Audio downloaded successfully!\n",
      "Audio downloaded successfully!\n",
      "Audio downloaded successfully!\n",
      "Audio downloaded successfully!\n",
      "Audio downloaded successfully!\n",
      "Audio downloaded successfully!\n",
      "Audio downloaded successfully!\n",
      "Audio downloaded successfully!\n",
      "Audio downloaded successfully!\n",
      "Audio downloaded successfully!\n",
      "Audio downloaded successfully!\n",
      "Audio downloaded successfully!\n",
      "Audio downloaded successfully!\n",
      "Audio downloaded successfully!\n",
      "Audio downloaded successfully!\n",
      "Audio downloaded successfully!\n",
      "Audio downloaded successfully!\n",
      "Audio downloaded successfully!\n",
      "Audio downloaded successfully!\n",
      "Audio downloaded successfully!\n",
      "Audio downloaded successfully!\n",
      "Audio downloaded successfully!\n",
      "Audio downloaded successfully!\n",
      "Audio downloaded successfully!\n",
      "Audio downloaded successfully!\n",
      "Audio downloaded successfully!\n",
      "Audio downloaded successfully!\n",
      "Audio downloaded successfully!\n",
      "Audio downloaded successfully!\n",
      "Audio downloaded successfully!\n",
      "Audio downloaded successfully!\n",
      "Audio downloaded successfully!\n",
      "Audio downloaded successfully!\n",
      "Audio downloaded successfully!\n",
      "Audio downloaded successfully!\n",
      "Audio downloaded successfully!\n",
      "Audio downloaded successfully!\n",
      "Audio downloaded successfully!\n",
      "Audio downloaded successfully!\n",
      "Audio downloaded successfully!\n",
      "Audio downloaded successfully!\n",
      "Audio downloaded successfully!\n",
      "Audio downloaded successfully!\n",
      "Audio downloaded successfully!\n",
      "Audio downloaded successfully!\n",
      "Audio downloaded successfully!\n",
      "Audio downloaded successfully!\n",
      "Audio downloaded successfully!\n",
      "Audio downloaded successfully!\n",
      "Audio downloaded successfully!\n",
      "Audio downloaded successfully!\n",
      "Audio downloaded successfully!\n",
      "Audio downloaded successfully!\n",
      "Audio downloaded successfully!\n",
      "Audio downloaded successfully!\n",
      "Audio downloaded successfully!\n",
      "Audio downloaded successfully!\n",
      "Audio downloaded successfully!\n",
      "Audio downloaded successfully!\n",
      "Audio downloaded successfully!\n",
      "Audio downloaded successfully!\n",
      "Audio downloaded successfully!\n",
      "Audio downloaded successfully!\n",
      "Audio downloaded successfully!\n",
      "Audio downloaded successfully!\n",
      "Audio downloaded successfully!\n",
      "Audio downloaded successfully!\n",
      "Audio downloaded successfully!\n",
      "Audio downloaded successfully!\n",
      "Audio downloaded successfully!\n",
      "Audio downloaded successfully!\n",
      "Audio downloaded successfully!\n",
      "Audio downloaded successfully!\n",
      "Audio downloaded successfully!\n",
      "Audio downloaded successfully!\n",
      "Audio downloaded successfully!\n",
      "Audio downloaded successfully!\n",
      "Audio downloaded successfully!\n",
      "Audio downloaded successfully!\n",
      "Audio downloaded successfully!\n",
      "Audio downloaded successfully!\n",
      "Audio downloaded successfully!\n",
      "Audio downloaded successfully!\n",
      "Audio downloaded successfully!\n",
      "Audio downloaded successfully!\n",
      "Audio downloaded successfully!\n",
      "Audio downloaded successfully!\n",
      "Audio downloaded successfully!\n"
     ]
    }
   ],
   "source": [
    "# Create a custom SSL context\n",
    "ssl_context = ssl.create_default_context()\n",
    "ssl_context.check_hostname = False\n",
    "ssl_context.verify_mode = ssl.CERT_NONE\n",
    "ssl._create_default_https_context = ssl._create_unverified_context\n",
    "\n",
    "playlist_url = \"https://www.youtube.com/watch?v=JGGddm70Qww&list=PL2v1REQ_1p60qumMEi08pxN9P5epXj2Yt\"\n",
    "playlist = pytube.Playlist(playlist_url)\n",
    "video_links = playlist.video_urls\n",
    "\n",
    "for i in video_links:\n",
    "    try:\n",
    "        url = i\n",
    "       \n",
    "        yt = pytube.YouTube(url)\n",
    "\n",
    "        stream = yt.streams.filter(only_audio=True).first()\n",
    "\n",
    "        output_file = 'AI_Audio'\n",
    "\n",
    "        stream.download(output_path=output_file)\n",
    "\n",
    "        print(\"Audio downloaded successfully!\")\n",
    "    except VideoUnavailable:\n",
    "        print(\"The video is unavailable.\")\n",
    "    except Exception as e:\n",
    "        print(\"An error occurred: \", e)\n",
    "\n",
    "for filename in os.listdir(output_file):\n",
    "    if filename.endswith(\".mp4\"):\n",
    "        os.rename(os.path.join(output_file, filename), os.path.join(output_file, filename[:-4] + \".wav\"))\n"
   ]
  },
  {
   "cell_type": "code",
   "execution_count": 9,
   "metadata": {},
   "outputs": [],
   "source": [
    "import os\n",
    "import librosa\n",
    "import numpy as np\n",
    "import matplotlib.pyplot as plt\n",
    "import pandas as pd\n",
    "\n",
    "final_json = {'Artist': [],\n",
    "             'MFCCs': [],\n",
    "              'Spec_Con': [],\n",
    "              'Label': []}\n",
    "\n",
    "n_mfcc = 40"
   ]
  },
  {
   "cell_type": "code",
   "execution_count": 10,
   "metadata": {},
   "outputs": [],
   "source": [
    "def extract_mfccs(folder_path, artist, label):\n",
    "\n",
    "    folder_path = folder_path\n",
    "\n",
    "    for file_name in os.listdir(folder_path):\n",
    "        try:\n",
    "            file_path = os.path.join(folder_path, file_name)\n",
    "            y, sr = librosa.load(file_path, sr=None, duration=80, offset=20)\n",
    "\n",
    "            mfccs = librosa.feature.mfcc(y=y, sr=sr, n_mfcc=n_mfcc)\n",
    "            sc = librosa.feature.spectral_contrast(y=y, sr=sr)  \n",
    "            \n",
    "            final_json['MFCCs'].append(mfccs)\n",
    "            final_json['Spec_Con'].append(sc)\n",
    "            final_json['Artist'].append(artist)\n",
    "            final_json['Label'].append(label)\n",
    "        except:\n",
    "            print('Error with {}'.format(file_path))"
   ]
  },
  {
   "cell_type": "code",
   "execution_count": 11,
   "metadata": {},
   "outputs": [
    {
     "name": "stderr",
     "output_type": "stream",
     "text": [
      "/var/folders/lw/_7j3pqbs5qqdv74c5lx55gtr0000gn/T/ipykernel_50370/4129834683.py:8: UserWarning: PySoundFile failed. Trying audioread instead.\n",
      "  y, sr = librosa.load(file_path, sr=None, duration=80, offset=20)\n",
      "/opt/anaconda3/envs/anly503/lib/python3.9/site-packages/librosa/core/audio.py:183: FutureWarning: librosa.core.audio.__audioread_load\n",
      "\tDeprecated as of librosa version 0.10.0.\n",
      "\tIt will be removed in librosa version 1.0.\n",
      "  y, sr_native = __audioread_load(path, offset, duration, dtype)\n"
     ]
    }
   ],
   "source": [
    "extract_mfccs('XXXTentacion', 'XXXTentacion', 0)\n",
    "extract_mfccs('Drake', 'Drake', 1)\n",
    "extract_mfccs('Juice', 'Juice', 2)\n",
    "extract_mfccs('Kanye', 'Kanye', 3)\n",
    "extract_mfccs('Travis', 'Travis', 4)\n",
    "extract_mfccs('Uzi', 'Uzi', 5)\n",
    "extract_mfccs('Weeknd', 'Weeknd', 6)\n"
   ]
  },
  {
   "cell_type": "code",
   "execution_count": 12,
   "metadata": {},
   "outputs": [],
   "source": [
    "mean_list = []\n",
    "variance_list = []\n",
    "\n",
    "for inner_array in final_json['MFCCs']:\n",
    "    for in_array in inner_array:\n",
    "        mean_list.append(np.mean(in_array))\n",
    "        variance_list.append(np.var(in_array))\n",
    "\n",
    "num_columns = 40\n",
    "\n",
    "reshaped_array_mean = np.array(mean_list).reshape(-1, num_columns)\n",
    "reshaped_array_var = np.array(variance_list).reshape(-1, num_columns)\n",
    "\n",
    "mfcc_df_mean = pd.DataFrame(reshaped_array_mean)\n",
    "mfcc_df_var = pd.DataFrame(reshaped_array_var)\n",
    "\n",
    "sc_df = pd.DataFrame([np.mean(inner_array, axis=1) for inner_array in final_json['Spec_Con']])\n",
    "    \n",
    "label_df = pd.DataFrame(final_json['Label'])\n",
    "\n",
    "mfcc_df = mfcc_df_mean.merge(mfcc_df_var, how='left', left_index=True, right_index=True)\n",
    "\n",
    "mfcc_df = mfcc_df.merge(sc_df, how='left', left_index=True, right_index=True)\n",
    "\n",
    "new_column_names = ['Column' + str(i+1) for i in range(len(mfcc_df.columns))]\n",
    "\n",
    "mfcc_df.columns = new_column_names"
   ]
  },
  {
   "cell_type": "code",
   "execution_count": 13,
   "metadata": {},
   "outputs": [
    {
     "data": {
      "text/html": [
       "<div>\n",
       "<style scoped>\n",
       "    .dataframe tbody tr th:only-of-type {\n",
       "        vertical-align: middle;\n",
       "    }\n",
       "\n",
       "    .dataframe tbody tr th {\n",
       "        vertical-align: top;\n",
       "    }\n",
       "\n",
       "    .dataframe thead th {\n",
       "        text-align: right;\n",
       "    }\n",
       "</style>\n",
       "<table border=\"1\" class=\"dataframe\">\n",
       "  <thead>\n",
       "    <tr style=\"text-align: right;\">\n",
       "      <th></th>\n",
       "      <th>0</th>\n",
       "      <th>1</th>\n",
       "      <th>2</th>\n",
       "      <th>3</th>\n",
       "      <th>4</th>\n",
       "      <th>5</th>\n",
       "      <th>6</th>\n",
       "      <th>7</th>\n",
       "      <th>8</th>\n",
       "      <th>9</th>\n",
       "      <th>...</th>\n",
       "      <th>423</th>\n",
       "      <th>424</th>\n",
       "      <th>425</th>\n",
       "      <th>426</th>\n",
       "      <th>427</th>\n",
       "      <th>428</th>\n",
       "      <th>429</th>\n",
       "      <th>430</th>\n",
       "      <th>431</th>\n",
       "      <th>432</th>\n",
       "    </tr>\n",
       "  </thead>\n",
       "  <tbody>\n",
       "    <tr>\n",
       "      <th>0</th>\n",
       "      <td>0</td>\n",
       "      <td>0</td>\n",
       "      <td>0</td>\n",
       "      <td>0</td>\n",
       "      <td>0</td>\n",
       "      <td>0</td>\n",
       "      <td>0</td>\n",
       "      <td>0</td>\n",
       "      <td>0</td>\n",
       "      <td>0</td>\n",
       "      <td>...</td>\n",
       "      <td>6</td>\n",
       "      <td>6</td>\n",
       "      <td>6</td>\n",
       "      <td>6</td>\n",
       "      <td>6</td>\n",
       "      <td>6</td>\n",
       "      <td>6</td>\n",
       "      <td>6</td>\n",
       "      <td>6</td>\n",
       "      <td>6</td>\n",
       "    </tr>\n",
       "  </tbody>\n",
       "</table>\n",
       "<p>1 rows × 433 columns</p>\n",
       "</div>"
      ],
      "text/plain": [
       "   0    1    2    3    4    5    6    7    8    9    ...  423  424  425  426  \\\n",
       "0    0    0    0    0    0    0    0    0    0    0  ...    6    6    6    6   \n",
       "\n",
       "   427  428  429  430  431  432  \n",
       "0    6    6    6    6    6    6  \n",
       "\n",
       "[1 rows x 433 columns]"
      ]
     },
     "execution_count": 13,
     "metadata": {},
     "output_type": "execute_result"
    }
   ],
   "source": [
    "label_df.T"
   ]
  },
  {
   "cell_type": "code",
   "execution_count": 14,
   "metadata": {},
   "outputs": [
    {
     "name": "stdout",
     "output_type": "stream",
     "text": [
      "Accuracy: 0.47692307692307695\n"
     ]
    },
    {
     "name": "stderr",
     "output_type": "stream",
     "text": [
      "/opt/anaconda3/envs/anly503/lib/python3.9/site-packages/sklearn/neighbors/_classification.py:207: DataConversionWarning: A column-vector y was passed when a 1d array was expected. Please change the shape of y to (n_samples,), for example using ravel().\n",
      "  return self._fit(X, y)\n"
     ]
    }
   ],
   "source": [
    "from sklearn.neighbors import KNeighborsClassifier\n",
    "from sklearn.model_selection import train_test_split\n",
    "from sklearn.metrics import confusion_matrix\n",
    "from sklearn.preprocessing import StandardScaler\n",
    "from sklearn.metrics import accuracy_score\n",
    "\n",
    "X_train, X_test, y_train, y_test = train_test_split(mfcc_df, label_df, test_size=0.3)\n",
    "\n",
    "x_sc = StandardScaler()\n",
    "X_train = x_sc.fit_transform(X_train)\n",
    "X_test = x_sc.transform(X_test)\n",
    "\n",
    "k = 11\n",
    "\n",
    "distance_metric = 'euclidean'\n",
    "\n",
    "knn = KNeighborsClassifier(n_neighbors=k  , metric=distance_metric)\n",
    "knn.fit(X_train, y_train)\n",
    "\n",
    "y_pred = knn.predict(X_test)\n",
    "\n",
    "\n",
    "accuracy = accuracy_score(y_pred, y_test)\n",
    "print(\"Accuracy:\", accuracy)"
   ]
  },
  {
   "cell_type": "code",
   "execution_count": 15,
   "metadata": {},
   "outputs": [
    {
     "data": {
      "image/png": "[encoded data removed]",
      "text/plain": [
       "<Figure size 432x288 with 1 Axes>"
      ]
     },
     "metadata": {
      "needs_background": "light"
     },
     "output_type": "display_data"
    }
   ],
   "source": [
    "y1 = mfcc_df.iloc[4].transpose()\n",
    "y2 = mfcc_df.iloc[74].transpose()\n",
    "y3 = mfcc_df.iloc[104].transpose()\n",
    "x = mfcc_df.iloc[5].transpose()\n",
    "\n",
    "plt.scatter(x, y1)\n",
    "plt.scatter(x, y2)\n",
    "plt.scatter(x, y3)\n",
    "plt.yscale('log')\n",
    "plt.xscale('log')\n",
    "\n",
    "\n"
   ]
  },
  {
   "cell_type": "code",
   "execution_count": 16,
   "metadata": {},
   "outputs": [
    {
     "data": {
      "text/plain": [
       "Text(0, 0.5, 'Accuracy')"
      ]
     },
     "execution_count": 16,
     "metadata": {},
     "output_type": "execute_result"
    },
    {
     "data": {
      "image/png": "[encoded data removed]",
      "text/plain": [
       "<Figure size 432x288 with 1 Axes>"
      ]
     },
     "metadata": {
      "needs_background": "light"
     },
     "output_type": "display_data"
    }
   ],
   "source": [
    "# optimize k \n",
    "from sklearn.model_selection import GridSearchCV\n",
    "import warnings\n",
    "warnings.filterwarnings('ignore')\n",
    "\n",
    "error = []\n",
    "\n",
    "X_train, X_test, y_train, y_test = train_test_split(mfcc_df, label_df, test_size=0.3)\n",
    "\n",
    "for i in range(1,60):\n",
    "    knn = KNeighborsClassifier(n_neighbors=i)\n",
    "    knn.fit(X_train, y_train)\n",
    "    y_pred = knn.predict(X_test)\n",
    "    error.append(accuracy_score(y_pred, y_test))\n",
    "    \n",
    "plt.plot(range(1,60), error)\n",
    "plt.title('Accuracy for K Value')\n",
    "plt.xlabel('K-Value')\n",
    "plt.ylabel('Accuracy')"
   ]
  },
  {
   "cell_type": "code",
   "execution_count": 19,
   "metadata": {},
   "outputs": [
    {
     "data": {
      "text/plain": [
       "0.6076923076923076"
      ]
     },
     "execution_count": 19,
     "metadata": {},
     "output_type": "execute_result"
    }
   ],
   "source": [
    "from sklearn.svm import SVC\n",
    "from sklearn.preprocessing import StandardScaler\n",
    "from sklearn.model_selection import train_test_split\n",
    "from sklearn.metrics import accuracy_score\n",
    "\n",
    "model = SVC(kernel='rbf', C=1, probability=True)\n",
    "\n",
    "X_train, X_test, y_train, y_test = train_test_split(mfcc_df, label_df, test_size=0.3)\n",
    "\n",
    "x_sc = StandardScaler()\n",
    "X_train = x_sc.fit_transform(X_train)\n",
    "X_test = x_sc.transform(X_test)\n",
    "\n",
    "model.fit(X_train, y_train)\n",
    "\n",
    "y_pred = model.predict(X_test)\n",
    "\n",
    "accuracy_score(y_pred, y_test)"
   ]
  },
  {
   "cell_type": "code",
   "execution_count": 20,
   "metadata": {},
   "outputs": [
    {
     "data": {
      "text/html": [
       "<div>\n",
       "<style scoped>\n",
       "    .dataframe tbody tr th:only-of-type {\n",
       "        vertical-align: middle;\n",
       "    }\n",
       "\n",
       "    .dataframe tbody tr th {\n",
       "        vertical-align: top;\n",
       "    }\n",
       "\n",
       "    .dataframe thead th {\n",
       "        text-align: right;\n",
       "    }\n",
       "</style>\n",
       "<table border=\"1\" class=\"dataframe\">\n",
       "  <thead>\n",
       "    <tr style=\"text-align: right;\">\n",
       "      <th></th>\n",
       "      <th>0</th>\n",
       "      <th>1</th>\n",
       "      <th>2</th>\n",
       "      <th>3</th>\n",
       "      <th>4</th>\n",
       "      <th>5</th>\n",
       "      <th>6</th>\n",
       "    </tr>\n",
       "  </thead>\n",
       "  <tbody>\n",
       "    <tr>\n",
       "      <th>0</th>\n",
       "      <td>9</td>\n",
       "      <td>5</td>\n",
       "      <td>0</td>\n",
       "      <td>0</td>\n",
       "      <td>0</td>\n",
       "      <td>1</td>\n",
       "      <td>2</td>\n",
       "    </tr>\n",
       "    <tr>\n",
       "      <th>1</th>\n",
       "      <td>1</td>\n",
       "      <td>9</td>\n",
       "      <td>0</td>\n",
       "      <td>0</td>\n",
       "      <td>2</td>\n",
       "      <td>1</td>\n",
       "      <td>0</td>\n",
       "    </tr>\n",
       "    <tr>\n",
       "      <th>2</th>\n",
       "      <td>1</td>\n",
       "      <td>1</td>\n",
       "      <td>11</td>\n",
       "      <td>1</td>\n",
       "      <td>2</td>\n",
       "      <td>3</td>\n",
       "      <td>2</td>\n",
       "    </tr>\n",
       "    <tr>\n",
       "      <th>3</th>\n",
       "      <td>0</td>\n",
       "      <td>2</td>\n",
       "      <td>2</td>\n",
       "      <td>11</td>\n",
       "      <td>0</td>\n",
       "      <td>0</td>\n",
       "      <td>3</td>\n",
       "    </tr>\n",
       "    <tr>\n",
       "      <th>4</th>\n",
       "      <td>1</td>\n",
       "      <td>3</td>\n",
       "      <td>4</td>\n",
       "      <td>0</td>\n",
       "      <td>11</td>\n",
       "      <td>2</td>\n",
       "      <td>2</td>\n",
       "    </tr>\n",
       "    <tr>\n",
       "      <th>5</th>\n",
       "      <td>0</td>\n",
       "      <td>1</td>\n",
       "      <td>0</td>\n",
       "      <td>0</td>\n",
       "      <td>1</td>\n",
       "      <td>18</td>\n",
       "      <td>1</td>\n",
       "    </tr>\n",
       "    <tr>\n",
       "      <th>6</th>\n",
       "      <td>1</td>\n",
       "      <td>1</td>\n",
       "      <td>1</td>\n",
       "      <td>2</td>\n",
       "      <td>0</td>\n",
       "      <td>2</td>\n",
       "      <td>10</td>\n",
       "    </tr>\n",
       "  </tbody>\n",
       "</table>\n",
       "</div>"
      ],
      "text/plain": [
       "   0  1   2   3   4   5   6\n",
       "0  9  5   0   0   0   1   2\n",
       "1  1  9   0   0   2   1   0\n",
       "2  1  1  11   1   2   3   2\n",
       "3  0  2   2  11   0   0   3\n",
       "4  1  3   4   0  11   2   2\n",
       "5  0  1   0   0   1  18   1\n",
       "6  1  1   1   2   0   2  10"
      ]
     },
     "execution_count": 20,
     "metadata": {},
     "output_type": "execute_result"
    }
   ],
   "source": [
    "pd.DataFrame(confusion_matrix(y_test, y_pred))\n"
   ]
  },
  {
   "cell_type": "code",
   "execution_count": 21,
   "metadata": {},
   "outputs": [
    {
     "data": {
      "text/plain": [
       "0.5615384615384615"
      ]
     },
     "execution_count": 21,
     "metadata": {},
     "output_type": "execute_result"
    }
   ],
   "source": [
    "# Random Forest\n",
    "from sklearn.ensemble import RandomForestClassifier\n",
    "\n",
    "rf = RandomForestClassifier()\n",
    "\n",
    "X_train, X_test, y_train, y_test = train_test_split(mfcc_df, label_df, test_size=0.3)\n",
    "\n",
    "x_sc = StandardScaler()\n",
    "X_train = x_sc.fit_transform(X_train)\n",
    "X_test = x_sc.transform(X_test)\n",
    "\n",
    "rf.fit(X_train, y_train)\n",
    "\n",
    "y_pred = rf.predict(X_test)\n",
    "\n",
    "accuracy_score(y_pred, y_test)"
   ]
  },
  {
   "cell_type": "code",
   "execution_count": 25,
   "metadata": {},
   "outputs": [
    {
     "data": {
      "text/html": [
       "<style>#sk-container-id-1 {color: black;background-color: white;}#sk-container-id-1 pre{padding: 0;}#sk-container-id-1 div.sk-toggleable {background-color: white;}#sk-container-id-1 label.sk-toggleable__label {cursor: pointer;display: block;width: 100%;margin-bottom: 0;padding: 0.3em;box-sizing: border-box;text-align: center;}#sk-container-id-1 label.sk-toggleable__label-arrow:before {content: \"▸\";float: left;margin-right: 0.25em;color: #696969;}#sk-container-id-1 label.sk-toggleable__label-arrow:hover:before {color: black;}#sk-container-id-1 div.sk-estimator:hover label.sk-toggleable__label-arrow:before {color: black;}#sk-container-id-1 div.sk-toggleable__content {max-height: 0;max-width: 0;overflow: hidden;text-align: left;background-color: #f0f8ff;}#sk-container-id-1 div.sk-toggleable__content pre {margin: 0.2em;color: black;border-radius: 0.25em;background-color: #f0f8ff;}#sk-container-id-1 input.sk-toggleable__control:checked~div.sk-toggleable__content {max-height: 200px;max-width: 100%;overflow: auto;}#sk-container-id-1 input.sk-toggleable__control:checked~label.sk-toggleable__label-arrow:before {content: \"▾\";}#sk-container-id-1 div.sk-estimator input.sk-toggleable__control:checked~label.sk-toggleable__label {background-color: #d4ebff;}#sk-container-id-1 div.sk-label input.sk-toggleable__control:checked~label.sk-toggleable__label {background-color: #d4ebff;}#sk-container-id-1 input.sk-hidden--visually {border: 0;clip: rect(1px 1px 1px 1px);clip: rect(1px, 1px, 1px, 1px);height: 1px;margin: -1px;overflow: hidden;padding: 0;position: absolute;width: 1px;}#sk-container-id-1 div.sk-estimator {font-family: monospace;background-color: #f0f8ff;border: 1px dotted black;border-radius: 0.25em;box-sizing: border-box;margin-bottom: 0.5em;}#sk-container-id-1 div.sk-estimator:hover {background-color: #d4ebff;}#sk-container-id-1 div.sk-parallel-item::after {content: \"\";width: 100%;border-bottom: 1px solid gray;flex-grow: 1;}#sk-container-id-1 div.sk-label:hover label.sk-toggleable__label {background-color: #d4ebff;}#sk-container-id-1 div.sk-serial::before {content: \"\";position: absolute;border-left: 1px solid gray;box-sizing: border-box;top: 0;bottom: 0;left: 50%;z-index: 0;}#sk-container-id-1 div.sk-serial {display: flex;flex-direction: column;align-items: center;background-color: white;padding-right: 0.2em;padding-left: 0.2em;position: relative;}#sk-container-id-1 div.sk-item {position: relative;z-index: 1;}#sk-container-id-1 div.sk-parallel {display: flex;align-items: stretch;justify-content: center;background-color: white;position: relative;}#sk-container-id-1 div.sk-item::before, #sk-container-id-1 div.sk-parallel-item::before {content: \"\";position: absolute;border-left: 1px solid gray;box-sizing: border-box;top: 0;bottom: 0;left: 50%;z-index: -1;}#sk-container-id-1 div.sk-parallel-item {display: flex;flex-direction: column;z-index: 1;position: relative;background-color: white;}#sk-container-id-1 div.sk-parallel-item:first-child::after {align-self: flex-end;width: 50%;}#sk-container-id-1 div.sk-parallel-item:last-child::after {align-self: flex-start;width: 50%;}#sk-container-id-1 div.sk-parallel-item:only-child::after {width: 0;}#sk-container-id-1 div.sk-dashed-wrapped {border: 1px dashed gray;margin: 0 0.4em 0.5em 0.4em;box-sizing: border-box;padding-bottom: 0.4em;background-color: white;}#sk-container-id-1 div.sk-label label {font-family: monospace;font-weight: bold;display: inline-block;line-height: 1.2em;}#sk-container-id-1 div.sk-label-container {text-align: center;}#sk-container-id-1 div.sk-container {/* jupyter's `normalize.less` sets `[hidden] { display: none; }` but bootstrap.min.css set `[hidden] { display: none !important; }` so we also need the `!important` here to be able to override the default hidden behavior on the sphinx rendered scikit-learn.org. See: https://github.com/scikit-learn/scikit-learn/issues/21755 */display: inline-block !important;position: relative;}#sk-container-id-1 div.sk-text-repr-fallback {display: none;}</style><div id=\"sk-container-id-1\" class=\"sk-top-container\"><div class=\"sk-text-repr-fallback\"><pre>MLPClassifier(alpha=5)</pre><b>In a Jupyter environment, please rerun this cell to show the HTML representation or trust the notebook. <br />On GitHub, the HTML representation is unable to render, please try loading this page with nbviewer.org.</b></div><div class=\"sk-container\" hidden><div class=\"sk-item\"><div class=\"sk-estimator sk-toggleable\"><input class=\"sk-toggleable__control sk-hidden--visually\" id=\"sk-estimator-id-1\" type=\"checkbox\" checked><label for=\"sk-estimator-id-1\" class=\"sk-toggleable__label sk-toggleable__label-arrow\">MLPClassifier</label><div class=\"sk-toggleable__content\"><pre>MLPClassifier(alpha=5)</pre></div></div></div></div></div>"
      ],
      "text/plain": [
       "MLPClassifier(alpha=5)"
      ]
     },
     "execution_count": 25,
     "metadata": {},
     "output_type": "execute_result"
    }
   ],
   "source": [
    "from sklearn.neural_network import MLPClassifier\n",
    "from sklearn.preprocessing import StandardScaler\n",
    "from sklearn.model_selection import train_test_split\n",
    "\n",
    "clf = MLPClassifier(hidden_layer_sizes=(100,), alpha=5, activation='relu', max_iter=200, solver='adam')\n",
    "\n",
    "X_train, X_test, y_train, y_test = train_test_split(mfcc_df, label_df, test_size=0.3)\n",
    "\n",
    "\n",
    "scaler = StandardScaler()\n",
    "X_train_normalized = scaler.fit_transform(X_train)\n",
    "X_test_normalized = scaler.transform(X_test)\n",
    "\n",
    "clf.out_activation_ = 'softmax'\n",
    "\n",
    "\n",
    "clf.fit(X_train_normalized, y_train)"
   ]
  },
  {
   "cell_type": "code",
   "execution_count": 26,
   "metadata": {},
   "outputs": [],
   "source": [
    "y_pred = clf.predict(X_test_normalized)"
   ]
  },
  {
   "cell_type": "code",
   "execution_count": 27,
   "metadata": {},
   "outputs": [
    {
     "data": {
      "text/plain": [
       "0.7307692307692307"
      ]
     },
     "execution_count": 27,
     "metadata": {},
     "output_type": "execute_result"
    }
   ],
   "source": [
    "from sklearn.metrics import accuracy_score, confusion_matrix, classification_report\n",
    "\n",
    "accuracy_score(y_test, y_pred)"
   ]
  },
  {
   "cell_type": "code",
   "execution_count": 29,
   "metadata": {},
   "outputs": [],
   "source": [
    "from ShazamAPI import Shazam\n",
    "from pydub import AudioSegment\n",
    "import time\n",
    "\n",
    "\n",
    "def ShazamSong(file_path):\n",
    "    audio = AudioSegment.from_file(file_path)\n",
    "    start_time = 30000  \n",
    "    end_time = len(audio)\n",
    "    trimmed_audio = audio[start_time:end_time]\n",
    "\n",
    "    mp3_file_content_to_recognize = trimmed_audio.export(format='mp3').read()\n",
    "    shazam = Shazam(mp3_file_content_to_recognize)\n",
    "    recognize_generator = shazam.recognizeSong()\n",
    "\n",
    "    try:\n",
    "        result = next(recognize_generator)\n",
    "        artist = result[1]['track']['subtitle']\n",
    "        return artist\n",
    "    except (StopIteration, KeyError):\n",
    "        return None"
   ]
  },
  {
   "cell_type": "code",
   "execution_count": null,
   "metadata": {},
   "outputs": [],
   "source": [
    "from ShazamAPI import Shazam\n",
    "from pydub import AudioSegment\n",
    "import time\n",
    "\n",
    "\n",
    "def ShazamSong(file_path):\n",
    "    audio = AudioSegment.from_file(file_path)\n",
    "    start_time = 30000  \n",
    "    end_time = len(audio)\n",
    "    trimmed_audio = audio[start_time:end_time]\n",
    "\n",
    "    mp3_file_content_to_recognize = trimmed_audio.export(format='mp3').read()\n",
    "    shazam = Shazam(mp3_file_content_to_recognize)\n",
    "    recognize_generator = shazam.recognizeSong()\n",
    "\n",
    "    try:\n",
    "        result = next(recognize_generator)\n",
    "        artist = result[1]['track']['subtitle']\n",
    "        return artist\n",
    "    except (StopIteration, KeyError):\n",
    "        return None"
   ]
  },
  {
   "cell_type": "code",
   "execution_count": null,
   "metadata": {},
   "outputs": [],
   "source": [
    "# Create a neural network classifier using tensorflow and keras for .wav data\n",
    "# the classes are Drake, Juice WRLD, Kanye West, Lil Uzi Vert, The Weeknd, Travis Scott, XXXTentacion\n",
    "# use a variety of features, such as MFCCs, spectral contrast, and chroma features\n",
    "\n",
    "# Create a neural network classifier using tensorflow and keras for .wav data\n",
    "# the classes are Drake, Juice WRLD, Kanye West, Lil Uzi Vert, The Weeknd, Travis Scott, XXXTentacion\n",
    "# use a variety of features, such as MFCCs, spectral contrast, and chroma features\n"
   ]
  },
  {
   "cell_type": "code",
   "execution_count": null,
   "metadata": {},
   "outputs": [
    {
     "ename": "",
     "evalue": "",
     "output_type": "error",
     "traceback": [
      "\u001b[1;31mRunning cells with '/usr/local/bin/python3' requires the ipykernel package.\n",
      "\u001b[1;31mRun the following command to install 'ipykernel' into the Python environment. \n",
      "\u001b[1;31mCommand: '/usr/local/bin/python3 -m pip install ipykernel -U --user --force-reinstall'"
     ]
    }
   ],
   "source": [
    "import os\n",
    "import numpy as np\n",
    "import tensorflow as tf\n",
    "from tensorflow.keras import layers, models\n",
    "from tensorflow.keras.utils import to_categorical\n",
    "from sklearn.model_selection import train_test_split\n",
    "from scipy.io import wavfile\n",
    "\n",
    "# Function to load and preprocess .wav data\n",
    "def load_and_preprocess_data(data_dir):\n",
    "    labels = []\n",
    "    features = []\n",
    "\n",
    "    # Loop through each class directory\n",
    "    artists = os.listdir(data_dir)\n",
    "\n",
    "    for i, artist in enumerate(artists):\n",
    "        artist_dir = os.path.join(data_dir, artist)\n",
    "\n",
    "        # Loop through each .wav file in the class directory\n",
    "        for filename in os.listdir(artist_dir):\n",
    "            file_path = os.path.join(artist_dir, filename)\n",
    "\n",
    "            # Load .wav file\n",
    "            _, wav_data = wavfile.read(file_path)\n",
    "\n",
    "            # Store data and label\n",
    "            features.append(wav_data)\n",
    "            labels.append(i)\n",
    "\n",
    "    # Convert lists to numpy arrays\n",
    "    features = np.array(features)\n",
    "    labels = np.array(labels)\n",
    "\n",
    "    # Convert labels to one-hot encoding\n",
    "    labels = to_categorical(labels, num_classes=len(artists))\n",
    "\n",
    "    return features, labels\n",
    "\n",
    "# Load and preprocess data\n",
    "data_dir = \"Real Audio\"\n",
    "features, labels = load_and_preprocess_data(data_dir)\n",
    "\n",
    "# Split the dataset into training and testing sets\n",
    "X_train, X_test, y_train, y_test = train_test_split(\n",
    "    features, labels, test_size=0.2, random_state=42\n",
    ")\n",
    "\n",
    "# Define the neural network architecture\n",
    "model = models.Sequential([\n",
    "    layers.Flatten(input_shape=(len(features[0]), )),  # Adjust input shape based on your data\n",
    "    layers.Dense(256, activation='relu'),\n",
    "    layers.Dropout(0.5),\n",
    "    layers.Dense(len(os.listdir(data_dir)), activation='softmax')  # Output layer with softmax activation for multiclass classification\n",
    "])\n",
    "\n",
    "# Compile the model\n",
    "model.compile(\n",
    "    optimizer='adam',\n",
    "    loss='categorical_crossentropy',\n",
    "    metrics=['accuracy']\n",
    ")\n",
    "\n",
    "# Display the model summary\n",
    "model.summary()\n",
    "\n",
    "# Train the model\n",
    "model.fit(X_train, y_train, epochs=10, batch_size=32, validation_split=0.2)\n",
    "\n",
    "# Evaluate the model on the test set\n",
    "loss, accuracy = model.evaluate(X_test, y_test)\n",
    "print(f'Test Loss: {loss:.4f}, Test Accuracy: {accuracy:.4f}')\n",
    "\n",
    "# Save the model\n",
    "model.save('wav_classifier_model.h5')\n"
   ]
  }
 ],
 "metadata": {
  "kernelspec": {
   "display_name": "anly521",
   "language": "python",
   "name": "python3"
  },
  "language_info": {
   "codemirror_mode": {
    "name": "ipython",
    "version": 3
   },
   "file_extension": ".py",
   "mimetype": "text/x-python",
   "name": "python",
   "nbconvert_exporter": "python",
   "pygments_lexer": "ipython3",
   "version": "3.9.9"
  },
  "orig_nbformat": 4
 },
 "nbformat": 4,
 "nbformat_minor": 2
}
